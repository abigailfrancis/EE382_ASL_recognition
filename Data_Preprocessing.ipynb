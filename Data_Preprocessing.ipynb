{
 "cells": [
  {
   "cell_type": "code",
   "execution_count": 67,
   "metadata": {},
   "outputs": [
    {
     "name": "stdout",
     "output_type": "stream",
     "text": [
      "['./raw data/asl_dataset\\\\0', './raw data/asl_dataset\\\\1', './raw data/asl_dataset\\\\2', './raw data/asl_dataset\\\\3', './raw data/asl_dataset\\\\4', './raw data/asl_dataset\\\\5', './raw data/asl_dataset\\\\6', './raw data/asl_dataset\\\\7', './raw data/asl_dataset\\\\8', './raw data/asl_dataset\\\\9', './raw data/asl_dataset\\\\a', './raw data/asl_dataset\\\\asl_dataset', './raw data/asl_dataset\\\\b', './raw data/asl_dataset\\\\c', './raw data/asl_dataset\\\\d', './raw data/asl_dataset\\\\e', './raw data/asl_dataset\\\\f', './raw data/asl_dataset\\\\g', './raw data/asl_dataset\\\\h', './raw data/asl_dataset\\\\i', './raw data/asl_dataset\\\\j', './raw data/asl_dataset\\\\k', './raw data/asl_dataset\\\\l', './raw data/asl_dataset\\\\m', './raw data/asl_dataset\\\\n', './raw data/asl_dataset\\\\o', './raw data/asl_dataset\\\\p', './raw data/asl_dataset\\\\q', './raw data/asl_dataset\\\\r', './raw data/asl_dataset\\\\s', './raw data/asl_dataset\\\\t', './raw data/asl_dataset\\\\u', './raw data/asl_dataset\\\\v', './raw data/asl_dataset\\\\w', './raw data/asl_dataset\\\\x', './raw data/asl_dataset\\\\y', './raw data/asl_dataset\\\\z']\n",
      "37\n"
     ]
    }
   ],
   "source": [
    "import cv2 as cv\n",
    "import os\n",
    "from glob import glob\n",
    "import matplotlib.pyplot as plt\n",
    "import pandas as pd\n",
    "\n",
    "df = pd.DataFrame(columns = ['images', 'label'])\n",
    "train_path = './raw data/asl_dataset/'\n",
    "folders = glob(train_path+'/*')\n",
    "print(folders)\n",
    "noclasses = len(folders)\n",
    "print(noclasses)"
   ]
  },
  {
   "cell_type": "code",
   "execution_count": 75,
   "metadata": {},
   "outputs": [
    {
     "name": "stdout",
     "output_type": "stream",
     "text": [
      "0\n",
      "./raw data/asl_dataset\\0\n"
     ]
    },
    {
     "ename": "TypeError",
     "evalue": "list indices must be integers or slices, not str",
     "output_type": "error",
     "traceback": [
      "\u001b[1;31m---------------------------------------------------------------------------\u001b[0m",
      "\u001b[1;31mTypeError\u001b[0m                                 Traceback (most recent call last)",
      "\u001b[1;32m<ipython-input-75-2cdbb17d068a>\u001b[0m in \u001b[0;36m<module>\u001b[1;34m\u001b[0m\n\u001b[0;32m      6\u001b[0m     \u001b[1;32mfor\u001b[0m \u001b[0mfile\u001b[0m \u001b[1;32min\u001b[0m \u001b[0mpath\u001b[0m\u001b[1;33m:\u001b[0m\u001b[1;33m\u001b[0m\u001b[1;33m\u001b[0m\u001b[0m\n\u001b[0;32m      7\u001b[0m         \u001b[0mprint\u001b[0m\u001b[1;33m(\u001b[0m\u001b[0mpath\u001b[0m\u001b[1;33m)\u001b[0m\u001b[1;33m\u001b[0m\u001b[1;33m\u001b[0m\u001b[0m\n\u001b[1;32m----> 8\u001b[1;33m         \u001b[0mimg_file\u001b[0m \u001b[1;33m=\u001b[0m \u001b[0mimg_path\u001b[0m\u001b[1;33m[\u001b[0m\u001b[0mfile\u001b[0m\u001b[1;33m]\u001b[0m\u001b[1;33m\u001b[0m\u001b[1;33m\u001b[0m\u001b[0m\n\u001b[0m\u001b[0;32m      9\u001b[0m         \u001b[0mim\u001b[0m \u001b[1;33m=\u001b[0m \u001b[0mcv\u001b[0m\u001b[1;33m.\u001b[0m\u001b[0mimread\u001b[0m\u001b[1;33m(\u001b[0m\u001b[0mimg_file\u001b[0m\u001b[1;33m)\u001b[0m\u001b[1;33m\u001b[0m\u001b[1;33m\u001b[0m\u001b[0m\n\u001b[0;32m     10\u001b[0m         data = {'images':im,\n",
      "\u001b[1;31mTypeError\u001b[0m: list indices must be integers or slices, not str"
     ]
    }
   ],
   "source": [
    "for path in folders:\n",
    "    img_path = glob(path+'/*')\n",
    "    _,label = os.path.split(path)\n",
    "    print(label)\n",
    "    files = len(img_path)\n",
    "    for filename in path:\n",
    "        print(path)\n",
    "        img_file = img_path[file]\n",
    "        im = cv.imread(img_file)\n",
    "        data = {'images':im,\n",
    "                'label':label}\n",
    "        print(im.shape)"
   ]
  },
  {
   "cell_type": "code",
   "execution_count": null,
   "metadata": {},
   "outputs": [],
   "source": []
  }
 ],
 "metadata": {
  "kernelspec": {
   "display_name": "Python 3",
   "language": "python",
   "name": "python3"
  },
  "language_info": {
   "codemirror_mode": {
    "name": "ipython",
    "version": 3
   },
   "file_extension": ".py",
   "mimetype": "text/x-python",
   "name": "python",
   "nbconvert_exporter": "python",
   "pygments_lexer": "ipython3",
   "version": "3.7.3"
  }
 },
 "nbformat": 4,
 "nbformat_minor": 2
}
