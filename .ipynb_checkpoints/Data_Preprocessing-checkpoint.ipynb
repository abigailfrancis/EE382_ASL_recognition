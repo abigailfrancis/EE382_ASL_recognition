{
 "cells": [
  {
   "cell_type": "code",
   "execution_count": 2,
   "metadata": {},
   "outputs": [],
   "source": [
    "import cv2 as cv\n",
    "import os\n",
    "\n",
    "for filename in os.listdir('C:/Users/Akhil/Downloads/New'):\n",
    "     image = cv2.imread(filename)\n",
    "      gray_image = cv2.cvtColor(image, cv2.COLOR_BGR2GRAY)\n",
    "      cv2.imwrite('gray_image.png',gray_image)\n",
    "      cv2.imshow('color_image',image)\n",
    "      cv2.imshow('gray_image',gray_image) \n",
    "      cv2.waitKey(0)                 \n",
    "     cv2.destroyAllWindows()"
   ]
  },
  {
   "cell_type": "code",
   "execution_count": null,
   "metadata": {},
   "outputs": [],
   "source": []
  }
 ],
 "metadata": {
  "kernelspec": {
   "display_name": "Python 3",
   "language": "python",
   "name": "python3"
  },
  "language_info": {
   "codemirror_mode": {
    "name": "ipython",
    "version": 3
   },
   "file_extension": ".py",
   "mimetype": "text/x-python",
   "name": "python",
   "nbconvert_exporter": "python",
   "pygments_lexer": "ipython3",
   "version": "3.7.3"
  }
 },
 "nbformat": 4,
 "nbformat_minor": 2
}
