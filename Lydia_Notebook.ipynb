{
 "cells": [
  {
   "cell_type": "markdown",
   "id": "canadian-dancing",
   "metadata": {},
   "source": [
    "# References\n",
    "### Image Processing\n",
    "https://www.oreilly.com/library/view/programming-computer-vision/9781449341916/ch01.html"
   ]
  },
  {
   "cell_type": "code",
   "execution_count": null,
   "id": "spread-console",
   "metadata": {},
   "outputs": [],
   "source": []
  }
 ],
 "metadata": {
  "kernelspec": {
   "display_name": "Python 3",
   "language": "python",
   "name": "python3"
  },
  "language_info": {
   "codemirror_mode": {
    "name": "ipython",
    "version": 3
   },
   "file_extension": ".py",
   "mimetype": "text/x-python",
   "name": "python",
   "nbconvert_exporter": "python",
   "pygments_lexer": "ipython3",
   "version": "3.7.5"
  }
 },
 "nbformat": 4,
 "nbformat_minor": 5
}
